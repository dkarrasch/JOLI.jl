{
 "cells": [
  {
   "cell_type": "markdown",
   "metadata": {},
   "source": [
    "# Basic operations on serial JOLI operators #"
   ]
  },
  {
   "cell_type": "markdown",
   "metadata": {},
   "source": [
    "- joMatrix\n",
    "- Build-in serial operators\n",
    "- size, show, display, isadjoint, islinear, etc...\n",
    "- mathematical operations on JOLI operators"
   ]
  },
  {
   "cell_type": "code",
   "execution_count": null,
   "metadata": {},
   "outputs": [],
   "source": []
  }
 ],
 "metadata": {
  "kernelspec": {
   "display_name": "Julia 1.4.2",
   "language": "julia",
   "name": "julia-1.4"
  },
  "language_info": {
   "file_extension": ".jl",
   "mimetype": "application/julia",
   "name": "julia",
   "version": "1.4.2"
  }
 },
 "nbformat": 4,
 "nbformat_minor": 4
}
